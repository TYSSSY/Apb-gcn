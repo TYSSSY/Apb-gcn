{
 "cells": [
  {
   "cell_type": "code",
   "execution_count": 1,
   "metadata": {},
   "outputs": [],
   "source": [
    "import torch\n",
    "from data.dataset import SkeletonDataset\n",
    "from torch_geometric.data import DataLoader\n",
    "from models.layers import HGAConv\n",
    "from third_party.performer import SelfAttention\n",
    "from einops import rearrange"
   ]
  },
  {
   "cell_type": "code",
   "execution_count": 6,
   "metadata": {
    "collapsed": false,
    "jupyter": {
     "outputs_hidden": false
    },
    "pycharm": {
     "name": "#%%\n"
    }
   },
   "outputs": [
    {
     "output_type": "stream",
     "name": "stdout",
     "text": [
      "tensor([[ 0,  1,  2,  3,  4,  5,  6,  7,  8,  9, 10, 11, 12, 13, 14, 15, 16, 17,\n         18, 19, 21, 22, 23, 24,  0,  3,  5,  6,  7,  9, 10, 11, 12, 13, 14, 15,\n         16, 17, 18, 19, 21, 22, 23, 24,  6,  7, 10, 11, 12, 13, 14, 15, 16, 17,\n         18, 19, 21, 22, 23, 24],\n        [ 1, 20, 20,  2, 20,  4,  5,  6, 20,  8,  9, 10,  0, 12, 13, 14,  0, 16,\n         17, 18, 22,  7, 24, 11, 20, 20, 20,  4,  5, 20,  8,  9,  1,  0, 12, 13,\n          1,  0, 16, 17,  7,  6, 11, 10, 20,  4, 20,  8, 20,  1,  0, 12, 20,  1,\n          0, 16,  6,  5, 10,  9]])\n"
     ]
    }
   ],
   "source": [
    "ds = SkeletonDataset(root='dataset',\n",
    "                     name='ntu')\n",
    "print(ds.skeleton_)"
   ]
  },
  {
   "cell_type": "code",
   "execution_count": 3,
   "metadata": {
    "collapsed": false,
    "jupyter": {
     "outputs_hidden": false
    },
    "pycharm": {
     "name": "#%%\n"
    }
   },
   "outputs": [],
   "source": [
    "loader = DataLoader(ds, batch_size=4)\n",
    "b = next(iter(loader))"
   ]
  },
  {
   "cell_type": "markdown",
   "metadata": {},
   "source": [
    "Charge the spatial model"
   ]
  },
  {
   "cell_type": "code",
   "execution_count": 4,
   "metadata": {
    "collapsed": false,
    "jupyter": {
     "outputs_hidden": false
    },
    "pycharm": {
     "name": "#%%\n"
    }
   },
   "outputs": [],
   "source": [
    "ly = HGAConv(in_channels=7,\n",
    "             out_channels=16,\n",
    "             heads=8)\n",
    "t = ly(b.x, adj=ds.skeleton_)"
   ]
  },
  {
   "source": [
    "h = 4  # num_heads\n",
    "b, n, c = t.shape\n",
    "lt = SelfAttention(dim=c,\n",
    "                   heads=h,\n",
    "                   causal=True)\n",
    "\n",
    "t = lt(t)"
   ],
   "cell_type": "code",
   "metadata": {},
   "execution_count": 7,
   "outputs": [
    {
     "output_type": "stream",
     "name": "stdout",
     "text": [
      "unable to import cuda code for auto-regressive Performer. will default to the memory inefficient non-cuda version\n"
     ]
    }
   ]
  },
  {
   "cell_type": "code",
   "execution_count": null,
   "metadata": {},
   "outputs": [],
   "source": []
  }
 ],
 "metadata": {
  "kernelspec": {
   "name": "Python 3.8.5 64-bit",
   "display_name": "Python 3.8.5 64-bit",
   "metadata": {
    "interpreter": {
     "hash": "082e9a3bcad0a290d0001e938aa60b99250c6c2ef33a923c00b70f9826caf4b7"
    }
   }
  },
  "language_info": {
   "codemirror_mode": {
    "name": "ipython",
    "version": 3
   },
   "file_extension": ".py",
   "mimetype": "text/x-python",
   "name": "python",
   "nbconvert_exporter": "python",
   "pygments_lexer": "ipython3",
   "version": "3.8.5-final"
  }
 },
 "nbformat": 4,
 "nbformat_minor": 4
}